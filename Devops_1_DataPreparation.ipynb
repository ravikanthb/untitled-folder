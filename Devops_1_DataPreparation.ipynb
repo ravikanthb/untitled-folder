{
 "cells": [
  {
   "cell_type": "code",
   "execution_count": 2,
   "metadata": {
    "collapsed": false
   },
   "outputs": [
    {
     "name": "stdout",
     "output_type": "stream",
     "text": [
      "G:\\Kaggle\\Titanic\n"
     ]
    }
   ],
   "source": [
    "cd 'G:\\Kaggle\\Titanic'"
   ]
  },
  {
   "cell_type": "code",
   "execution_count": 256,
   "metadata": {
    "collapsed": true
   },
   "outputs": [],
   "source": [
    "from pandas import Series, DataFrame\n",
    "import pandas as pd\n",
    "import numpy as np"
   ]
  },
  {
   "cell_type": "code",
   "execution_count": 276,
   "metadata": {
    "collapsed": false
   },
   "outputs": [
    {
     "data": {
      "text/plain": [
       "(891, 12)"
      ]
     },
     "execution_count": 276,
     "metadata": {},
     "output_type": "execute_result"
    }
   ],
   "source": [
    "total =  pd.read_csv('train.csv')\n",
    "total.shape"
   ]
  },
  {
   "cell_type": "code",
   "execution_count": 277,
   "metadata": {
    "collapsed": false
   },
   "outputs": [
    {
     "data": {
      "text/plain": [
       "PassengerId    0.000000\n",
       "Survived       0.478523\n",
       "Pclass        -0.630548\n",
       "Age            0.389108\n",
       "SibSp          3.695352\n",
       "Parch          2.749117\n",
       "Fare           4.787317\n",
       "dtype: float64"
      ]
     },
     "execution_count": 277,
     "metadata": {},
     "output_type": "execute_result"
    }
   ],
   "source": [
    "total.skew()"
   ]
  },
  {
   "cell_type": "code",
   "execution_count": null,
   "metadata": {
    "collapsed": true
   },
   "outputs": [],
   "source": []
  },
  {
   "cell_type": "code",
   "execution_count": 278,
   "metadata": {
    "collapsed": false
   },
   "outputs": [
    {
     "data": {
      "text/plain": [
       "Index([u'PassengerId', u'Survived', u'Pclass', u'Name', u'Sex', u'Age',\n",
       "       u'SibSp', u'Parch', u'Ticket', u'Fare', u'Cabin', u'Embarked'],\n",
       "      dtype='object')"
      ]
     },
     "execution_count": 278,
     "metadata": {},
     "output_type": "execute_result"
    }
   ],
   "source": [
    "total.columns"
   ]
  },
  {
   "cell_type": "code",
   "execution_count": 279,
   "metadata": {
    "collapsed": false
   },
   "outputs": [],
   "source": [
    "def get_title():\n",
    "    \n",
    "    global train\n",
    "    total['title'] = total['Name'].map(lambda name: name.split(',')[1].split('.')[0].strip())\n",
    "    title_dict = { \"Capt\":       \"Officer\",\n",
    "               \"Col\":        \"Officer\",\n",
    "               \"Major\":      \"Officer\",\n",
    "               \"Jonkheer\":   \"Royalty\",\n",
    "               \"Don\":        \"Royalty\",\n",
    "               \"Sir\" :       \"Royalty\",\n",
    "               \"Dr\":         \"Officer\",\n",
    "               \"Rev\":        \"Officer\",\n",
    "               \"the Countess\":\"Royalty\",\n",
    "               \"Dona\":       \"Royalty\",\n",
    "               \"Mme\":        \"Mrs\",\n",
    "               \"Mlle\":       \"Miss\",\n",
    "               \"Ms\":         \"Mrs\",\n",
    "               \"Mr\" :        \"Mr\",\n",
    "               \"Mrs\" :       \"Mrs\",\n",
    "               \"Miss\" :      \"Miss\",\n",
    "               \"Master\" :    \"Master\",\n",
    "               \"Lady\" :      \"Royalty\"}\n",
    "    total['title'] = total['title'].map(title_dict)\n",
    "    \n",
    "get_title()"
   ]
  },
  {
   "cell_type": "code",
   "execution_count": 280,
   "metadata": {
    "collapsed": false
   },
   "outputs": [
    {
     "data": {
      "text/plain": [
       "PassengerId    891\n",
       "Survived       891\n",
       "Pclass         891\n",
       "Name           891\n",
       "Sex            891\n",
       "Age            714\n",
       "SibSp          891\n",
       "Parch          891\n",
       "Ticket         891\n",
       "Fare           891\n",
       "Cabin          204\n",
       "Embarked       889\n",
       "title          891\n",
       "dtype: int64"
      ]
     },
     "execution_count": 280,
     "metadata": {},
     "output_type": "execute_result"
    }
   ],
   "source": [
    "total.notnull().sum()"
   ]
  },
  {
   "cell_type": "code",
   "execution_count": 281,
   "metadata": {
    "collapsed": false
   },
   "outputs": [
    {
     "data": {
      "text/plain": [
       "Sex     Pclass  title  \n",
       "female  1       Miss       30.0\n",
       "                Mrs        40.0\n",
       "                Officer    49.0\n",
       "                Royalty    40.5\n",
       "        2       Miss       24.0\n",
       "                Mrs        31.5\n",
       "        3       Miss       18.0\n",
       "                Mrs        31.0\n",
       "male    1       Master      4.0\n",
       "                Mr         40.0\n",
       "                Officer    51.0\n",
       "                Royalty    40.0\n",
       "        2       Master      1.0\n",
       "                Mr         31.0\n",
       "                Officer    46.5\n",
       "        3       Master      4.0\n",
       "                Mr         26.0\n",
       "Name: Age, dtype: float64"
      ]
     },
     "execution_count": 281,
     "metadata": {},
     "output_type": "execute_result"
    }
   ],
   "source": [
    "grouped = total.groupby(['Sex', 'Pclass', 'title'])['Age']\n",
    "grouped.median()"
   ]
  },
  {
   "cell_type": "code",
   "execution_count": 282,
   "metadata": {
    "collapsed": true
   },
   "outputs": [],
   "source": [
    "def fill_age(df):\n",
    "    \n",
    "    if df['Sex' == 'female']:\n",
    "        \n",
    "        if df['Pclass' == 1]:\n",
    "            \n",
    "            if df['title' == 'Miss']:\n",
    "                return 30\n",
    "            elif df['title' == 'Mrs']:\n",
    "                return 45\n",
    "            elif df['title' == 'Officer']:\n",
    "                return 49\n",
    "            elif df['title' == 'Royalty']:\n",
    "                return 39\n",
    "            \n",
    "        elif df['Pclass' == 2]:\n",
    "            \n",
    "            if df['title' == 'Miss']:\n",
    "                return 20\n",
    "            elif df['title' == 'Mrs']:\n",
    "                return 30\n",
    "            \n",
    "        elif df['Pclass' == 3]:\n",
    "            \n",
    "            if df['title' == 'Miss']:\n",
    "                return 18\n",
    "            elif df['title' == 'Mrs']:\n",
    "                return 31\n",
    "        \n",
    "    if df['Sex' == 'male']:\n",
    "        \n",
    "        if df['Pclass' == 1]:\n",
    "            \n",
    "            if df['title' == 'Master']:\n",
    "                return 6\n",
    "            elif df['title' == 'Mr']:\n",
    "                return 41.5\n",
    "            elif df['title' == 'Officer']:\n",
    "                return 52\n",
    "            elif df['title' == 'Royalty']:\n",
    "                return 40\n",
    "            \n",
    "        elif df['Pclass' == 2]:\n",
    "            \n",
    "            if df['title' == 'Master']:\n",
    "                return 2\n",
    "            elif df['title' == 'Mr']:\n",
    "                return 30\n",
    "            elif df['title' == 'Officer']:\n",
    "                return 41.5\n",
    "            \n",
    "            \n",
    "        elif df['Pclass' == 3]:\n",
    "            \n",
    "            if df['title' == 'Master']:\n",
    "                return 6\n",
    "            elif df['title' == 'Mr']:\n",
    "                return 26\n",
    "   \n",
    "total.Age = total.apply(lambda r : fill_age(r) if np.isnan(r['Age']) else r['Age'], axis=1)"
   ]
  },
  {
   "cell_type": "code",
   "execution_count": 283,
   "metadata": {
    "collapsed": true
   },
   "outputs": [],
   "source": [
    "total['Cabin'].fillna('U', inplace = True)\n",
    "total['Cabin'] = total['Cabin'].map(lambda s: s[0])"
   ]
  },
  {
   "cell_type": "code",
   "execution_count": 284,
   "metadata": {
    "collapsed": false
   },
   "outputs": [
    {
     "name": "stdout",
     "output_type": "stream",
     "text": [
      "0    S\n",
      "dtype: object\n"
     ]
    }
   ],
   "source": [
    "print total['Embarked'].mode()\n",
    "total['Embarked'].fillna('S', inplace = True)"
   ]
  },
  {
   "cell_type": "code",
   "execution_count": 266,
   "metadata": {
    "collapsed": false
   },
   "outputs": [],
   "source": [
    "sex_dict = {'male' : 1, 'female' : 0}\n",
    "total['Sex'] = total['Sex'].map(sex_dict)"
   ]
  },
  {
   "cell_type": "code",
   "execution_count": 267,
   "metadata": {
    "collapsed": true
   },
   "outputs": [],
   "source": [
    "total['family_size'] = total['SibSp'] + total['Parch'] + 1 "
   ]
  },
  {
   "cell_type": "code",
   "execution_count": 268,
   "metadata": {
    "collapsed": false
   },
   "outputs": [
    {
     "data": {
      "text/plain": [
       "1     537\n",
       "2     161\n",
       "3     102\n",
       "4      29\n",
       "6      22\n",
       "5      15\n",
       "7      12\n",
       "11      7\n",
       "8       6\n",
       "Name: family_size, dtype: int64"
      ]
     },
     "execution_count": 268,
     "metadata": {},
     "output_type": "execute_result"
    }
   ],
   "source": [
    "total.family_size.value_counts()"
   ]
  },
  {
   "cell_type": "code",
   "execution_count": 269,
   "metadata": {
    "collapsed": true
   },
   "outputs": [],
   "source": [
    "total['Single'] = total['family_size'].map(lambda s : 1 if s==1 else 0)\n",
    "total['small_family'] = total['family_size'].map(lambda s : 1 if 1<s<5 else 0)\n",
    "total['large_family'] = total['family_size'].map(lambda s : 1 if 4<s else 0)"
   ]
  },
  {
   "cell_type": "code",
   "execution_count": 270,
   "metadata": {
    "collapsed": false
   },
   "outputs": [
    {
     "data": {
      "text/plain": [
       "PassengerId     0\n",
       "Survived        0\n",
       "Pclass          0\n",
       "Name            0\n",
       "Sex             0\n",
       "Age             0\n",
       "SibSp           0\n",
       "Parch           0\n",
       "Ticket          0\n",
       "Fare            0\n",
       "Cabin           0\n",
       "Embarked        0\n",
       "title           0\n",
       "family_size     0\n",
       "Single          0\n",
       "small_family    0\n",
       "large_family    0\n",
       "dtype: int64"
      ]
     },
     "execution_count": 270,
     "metadata": {},
     "output_type": "execute_result"
    }
   ],
   "source": [
    "total.isnull().sum()"
   ]
  },
  {
   "cell_type": "code",
   "execution_count": 271,
   "metadata": {
    "collapsed": true
   },
   "outputs": [],
   "source": [
    "# submission = pd.DataFrame(total)\n",
    "# submission.to_csv(\"total_formated.csv\", index=False)"
   ]
  },
  {
   "cell_type": "code",
   "execution_count": 231,
   "metadata": {
    "collapsed": true
   },
   "outputs": [],
   "source": [
    "total_passengerid = total['PassengerId']\n",
    "total_survived = total['Survived']\n",
    "\n",
    "total.drop(['PassengerId', 'Survived', 'Ticket','Name'], axis = 1, inplace = True)"
   ]
  },
  {
   "cell_type": "code",
   "execution_count": 232,
   "metadata": {
    "collapsed": false
   },
   "outputs": [],
   "source": [
    "total = pd.get_dummies(total, columns=['Cabin', 'Embarked', 'title', 'Pclass'])"
   ]
  },
  {
   "cell_type": "code",
   "execution_count": 233,
   "metadata": {
    "collapsed": false
   },
   "outputs": [
    {
     "data": {
      "text/plain": [
       "(891, 30)"
      ]
     },
     "execution_count": 233,
     "metadata": {},
     "output_type": "execute_result"
    }
   ],
   "source": [
    "total.shape"
   ]
  },
  {
   "cell_type": "code",
   "execution_count": 234,
   "metadata": {
    "collapsed": false
   },
   "outputs": [
    {
     "data": {
      "text/plain": [
       "((712, 30), (179, 30), (712L,), (179L,))"
      ]
     },
     "execution_count": 234,
     "metadata": {},
     "output_type": "execute_result"
    }
   ],
   "source": [
    "from sklearn.cross_validation import train_test_split\n",
    "X_train, X_test, Y_train, Y_test = train_test_split(total, total_survived, random_state=4, test_size = 0.2, stratify = total_survived )\n",
    "X_train.shape, X_test.shape, Y_train.shape, Y_test.shape"
   ]
  },
  {
   "cell_type": "code",
   "execution_count": 235,
   "metadata": {
    "collapsed": false
   },
   "outputs": [
    {
     "data": {
      "text/plain": [
       "0    110\n",
       "1     69\n",
       "Name: Survived, dtype: int64"
      ]
     },
     "execution_count": 235,
     "metadata": {},
     "output_type": "execute_result"
    }
   ],
   "source": [
    "Y_test.value_counts()"
   ]
  },
  {
   "cell_type": "code",
   "execution_count": 236,
   "metadata": {
    "collapsed": false
   },
   "outputs": [],
   "source": [
    "# from scipy.stats import boxcox\n",
    "# # X_train['Fare'], lam = boxcox(X_train['Fare']+0.001)\n",
    "# X_test['Fare'], lam = boxcox(X_test['Fare']+0.001)\n",
    "# X_test.Fare.skew()"
   ]
  },
  {
   "cell_type": "code",
   "execution_count": 237,
   "metadata": {
    "collapsed": false
   },
   "outputs": [
    {
     "data": {
      "text/plain": [
       "0    439\n",
       "1    273\n",
       "Name: Survived, dtype: int64"
      ]
     },
     "execution_count": 237,
     "metadata": {},
     "output_type": "execute_result"
    }
   ],
   "source": [
    "Y_train.value_counts()"
   ]
  },
  {
   "cell_type": "code",
   "execution_count": 238,
   "metadata": {
    "collapsed": false
   },
   "outputs": [
    {
     "data": {
      "text/plain": [
       "0    110\n",
       "1     69\n",
       "Name: Survived, dtype: int64"
      ]
     },
     "execution_count": 238,
     "metadata": {},
     "output_type": "execute_result"
    }
   ],
   "source": [
    "Y_test.value_counts()"
   ]
  },
  {
   "cell_type": "code",
   "execution_count": 239,
   "metadata": {
    "collapsed": false
   },
   "outputs": [],
   "source": [
    "from sklearn.pipeline import make_pipeline\n",
    "from sklearn.ensemble import RandomForestClassifier\n",
    "from sklearn.feature_selection import SelectKBest\n",
    "from sklearn.cross_validation import StratifiedKFold\n",
    "from sklearn.grid_search import GridSearchCV\n",
    "from sklearn.ensemble.gradient_boosting import GradientBoostingClassifier\n",
    "from sklearn.cross_validation import cross_val_score\n",
    "\n",
    "from sklearn.ensemble import ExtraTreesClassifier\n",
    "from sklearn.feature_selection import SelectFromModel"
   ]
  },
  {
   "cell_type": "code",
   "execution_count": 240,
   "metadata": {
    "collapsed": false,
    "scrolled": true
   },
   "outputs": [],
   "source": [
    "clf = ExtraTreesClassifier(n_estimators=200)\n",
    "clf = clf.fit(X_train, Y_train)"
   ]
  },
  {
   "cell_type": "code",
   "execution_count": 241,
   "metadata": {
    "collapsed": false
   },
   "outputs": [
    {
     "name": "stdout",
     "output_type": "stream",
     "text": [
      " 1)  Sex    0.197493\n",
      " 2)  Age    0.169455\n",
      " 3)  SibSp  0.124338\n",
      " 4)  Parch  0.119287\n",
      " 5)  Fare   0.043786\n",
      " 6)  family_size 0.037834\n",
      " 7)  Single 0.037424\n",
      " 8)  small_family 0.035677\n",
      " 9)  large_family 0.023014\n",
      "10)  Cabin_A 0.021127\n",
      "11)  Cabin_B 0.019308\n",
      "12)  Cabin_C 0.018538\n",
      "13)  Cabin_D 0.018460\n",
      "14)  Cabin_E 0.016506\n",
      "15)  Cabin_F 0.013470\n",
      "16)  Cabin_G 0.012965\n",
      "17)  Cabin_T 0.012679\n",
      "18)  Cabin_U 0.012443\n",
      "19)  Embarked_C 0.011531\n",
      "20)  Embarked_Q 0.010033\n",
      "21)  Embarked_S 0.008694\n",
      "22)  title_Master 0.008009\n",
      "23)  title_Miss 0.007148\n",
      "24)  title_Mr 0.006701\n",
      "25)  title_Mrs 0.006400\n",
      "26)  title_Officer 0.002934\n",
      "27)  title_Royalty 0.002037\n",
      "28)  Pclass_1 0.001249\n",
      "29)  Pclass_2 0.001057\n",
      "30)  Pclass_3 0.000400\n"
     ]
    }
   ],
   "source": [
    "importances = clf.feature_importances_\n",
    "indices = np.argsort(importances)[::-1]\n",
    "feat_labels = X_train.columns\n",
    "for f in range(X_train.shape[1]):\n",
    "              print(\"%2d)  %-*s %f\" % (f +1, 6,\n",
    "                                      feat_labels[f],\n",
    "                                      importances[indices[f]]))"
   ]
  },
  {
   "cell_type": "code",
   "execution_count": 242,
   "metadata": {
    "collapsed": false
   },
   "outputs": [
    {
     "data": {
      "image/png": "[encoded data removed]",
      "text/plain": [
       "<matplotlib.figure.Figure at 0xc98f780>"
      ]
     },
     "metadata": {},
     "output_type": "display_data"
    }
   ],
   "source": [
    "import matplotlib.pyplot as plt\n",
    "%matplotlib inline\n",
    "\n",
    "plt.title('Feature Importances')\n",
    "plt.bar(range(X_train.shape[1]),\n",
    "       importances[indices],\n",
    "        color = 'lightblue',\n",
    "        align='center')\n",
    "plt.xticks(range(X_train.shape[1]),\n",
    "          feat_labels, rotation=90)\n",
    "plt.xlim([-1, X_train.shape[-1]])\n",
    "plt.tight_layout()\n",
    "plt.show()"
   ]
  },
  {
   "cell_type": "code",
   "execution_count": 243,
   "metadata": {
    "collapsed": true
   },
   "outputs": [],
   "source": [
    "######################################################"
   ]
  },
  {
   "cell_type": "code",
   "execution_count": 244,
   "metadata": {
    "collapsed": true
   },
   "outputs": [],
   "source": [
    "# Load libraries\n",
    "import pandas\n",
    "import numpy\n",
    "import matplotlib.pyplot as plt\n",
    "from pandas.tools.plotting import scatter_matrix\n",
    "from sklearn.preprocessing import StandardScaler\n",
    "from sklearn import cross_validation\n",
    "from sklearn.metrics import classification_report\n",
    "from sklearn.metrics import confusion_matrix\n",
    "from sklearn.metrics import accuracy_score\n",
    "from sklearn.pipeline import Pipeline\n",
    "from sklearn.grid_search import GridSearchCV\n",
    "from sklearn.linear_model import LogisticRegression\n",
    "from sklearn.tree import DecisionTreeClassifier\n",
    "from sklearn.neighbors import KNeighborsClassifier\n",
    "from sklearn.discriminant_analysis import LinearDiscriminantAnalysis\n",
    "from sklearn.naive_bayes import GaussianNB\n",
    "from sklearn.svm import SVC\n",
    "from sklearn.ensemble import AdaBoostClassifier\n",
    "from sklearn.ensemble import GradientBoostingClassifier\n",
    "from sklearn.ensemble import RandomForestClassifier\n",
    "from sklearn.ensemble import ExtraTreesClassifier"
   ]
  },
  {
   "cell_type": "code",
   "execution_count": 245,
   "metadata": {
    "collapsed": true
   },
   "outputs": [],
   "source": [
    "# Evaluate Algorithms: Baseline\n",
    "\n",
    "# Test options and evaluation metric\n",
    "num_folds = 10\n",
    "num_instances = len(X_train)\n",
    "seed = 7\n",
    "scoring = 'accuracy'\n",
    "\n",
    "\n",
    "# Spot-Check Algorithms\n",
    "models = []\n",
    "models.append(('LR', LogisticRegression()))\n",
    "models.append(('LDA', LinearDiscriminantAnalysis()))\n",
    "models.append(('KNN', KNeighborsClassifier()))\n",
    "models.append(('CART', DecisionTreeClassifier()))\n",
    "models.append(('NB', GaussianNB()))\n",
    "models.append(('SVM', SVC()))"
   ]
  },
  {
   "cell_type": "code",
   "execution_count": 246,
   "metadata": {
    "collapsed": false
   },
   "outputs": [
    {
     "name": "stdout",
     "output_type": "stream",
     "text": [
      "LR: 0.830164 (0.050325)\n",
      "LDA: 0.825939 (0.051904)\n",
      "KNN: 0.738772 (0.033882)\n",
      "CART: 0.772359 (0.035508)\n",
      "NB: 0.797809 (0.040045)\n",
      "SVM: 0.731788 (0.033157)\n"
     ]
    },
    {
     "data": {
      "image/png": "[encoded data removed]",
      "text/plain": [
       "<matplotlib.figure.Figure at 0xb281f28>"
      ]
     },
     "metadata": {},
     "output_type": "display_data"
    }
   ],
   "source": [
    "results = []\n",
    "names = []\n",
    "for name, model in models:\n",
    "    kfold = cross_validation.KFold(n=num_instances, n_folds=num_folds, random_state=seed)\n",
    "    cv_results = cross_validation.cross_val_score(model, X_train, Y_train, cv=kfold, scoring=scoring)\n",
    "    results.append(cv_results)\n",
    "    names.append(name)\n",
    "    msg = \"%s: %f (%f)\" % (name, cv_results.mean(), cv_results.std())\n",
    "    print(msg)\n",
    "    \n",
    "# Compare Algorithms\n",
    "fig = plt.figure()\n",
    "fig.suptitle('Algorithm Comparison')\n",
    "ax = fig.add_subplot(111)\n",
    "plt.boxplot(results)\n",
    "ax.set_xticklabels(names)\n",
    "plt.show()"
   ]
  },
  {
   "cell_type": "code",
   "execution_count": 247,
   "metadata": {
    "collapsed": false
   },
   "outputs": [
    {
     "name": "stdout",
     "output_type": "stream",
     "text": [
      "ScaledLR: 0.823122 (0.040720)\n",
      "ScaledLDA: 0.825939 (0.051904)\n",
      "ScaledKNN: 0.804773 (0.035179)\n",
      "ScaledCART: 0.766745 (0.037905)\n",
      "ScaledNB: 0.709194 (0.093827)\n",
      "ScaledSVM: 0.827328 (0.046653)\n"
     ]
    },
    {
     "data": {
      "image/png": "[encoded data removed]",
      "text/plain": [
       "<matplotlib.figure.Figure at 0xa926080>"
      ]
     },
     "metadata": {},
     "output_type": "display_data"
    }
   ],
   "source": [
    "# Standardize the dataset\n",
    "pipelines = []\n",
    "pipelines.append(('ScaledLR', Pipeline([('Scaler', StandardScaler()),('LR', LogisticRegression())])))\n",
    "pipelines.append(('ScaledLDA', Pipeline([('Scaler', StandardScaler()),('LDA', LinearDiscriminantAnalysis())])))\n",
    "pipelines.append(('ScaledKNN', Pipeline([('Scaler', StandardScaler()),('KNN', KNeighborsClassifier())])))\n",
    "pipelines.append(('ScaledCART', Pipeline([('Scaler', StandardScaler()),('CART', DecisionTreeClassifier())])))\n",
    "pipelines.append(('ScaledNB', Pipeline([('Scaler', StandardScaler()),('NB', GaussianNB())])))\n",
    "pipelines.append(('ScaledSVM', Pipeline([('Scaler', StandardScaler()),('SVM', SVC())])))\n",
    "\n",
    "results = []\n",
    "names = []\n",
    "\n",
    "for name, model in pipelines:\n",
    "    kfold = cross_validation.KFold(n=num_instances, n_folds=num_folds, random_state=seed)\n",
    "    cv_results = cross_validation.cross_val_score(model, X_train, Y_train, cv=kfold, scoring=scoring)\n",
    "    results.append(cv_results)\n",
    "    names.append(name)\n",
    "    msg = \"%s: %f (%f)\" % (name, cv_results.mean(), cv_results.std())\n",
    "    print(msg)\n",
    "    \n",
    "# Compare Algorithms\n",
    "fig = plt.figure()\n",
    "fig.suptitle('Scaled Algorithm Comparison')\n",
    "ax = fig.add_subplot(111)\n",
    "plt.boxplot(results)\n",
    "ax.set_xticklabels(names)\n",
    "plt.show()"
   ]
  },
  {
   "cell_type": "code",
   "execution_count": 248,
   "metadata": {
    "collapsed": false
   },
   "outputs": [
    {
     "name": "stdout",
     "output_type": "stream",
     "text": [
      "Best: 0.832865 using {'kernel': 'rbf', 'C': 0.3}\n",
      "0.824511 (0.045554) with: {'kernel': 'linear', 'C': 0.1}\n",
      "0.730399 (0.054107) with: {'kernel': 'poly', 'C': 0.1}\n",
      "0.820344 (0.040970) with: {'kernel': 'rbf', 'C': 0.1}\n",
      "0.616784 (0.090963) with: {'kernel': 'sigmoid', 'C': 0.1}\n",
      "0.824511 (0.045554) with: {'kernel': 'linear', 'C': 0.3}\n",
      "0.811835 (0.044294) with: {'kernel': 'poly', 'C': 0.3}\n",
      "0.832942 (0.044278) with: {'kernel': 'rbf', 'C': 0.3}\n",
      "0.616784 (0.090963) with: {'kernel': 'sigmoid', 'C': 0.3}\n",
      "0.824511 (0.045554) with: {'kernel': 'linear', 'C': 0.5}\n",
      "0.818877 (0.047877) with: {'kernel': 'poly', 'C': 0.5}\n",
      "0.831534 (0.043641) with: {'kernel': 'rbf', 'C': 0.5}\n",
      "0.616784 (0.090963) with: {'kernel': 'sigmoid', 'C': 0.5}\n",
      "0.824511 (0.045554) with: {'kernel': 'linear', 'C': 0.7}\n",
      "0.828697 (0.043716) with: {'kernel': 'poly', 'C': 0.7}\n",
      "0.830145 (0.045933) with: {'kernel': 'rbf', 'C': 0.7}\n",
      "0.616784 (0.090963) with: {'kernel': 'sigmoid', 'C': 0.7}\n",
      "0.824511 (0.045554) with: {'kernel': 'linear', 'C': 0.9}\n",
      "0.828697 (0.042850) with: {'kernel': 'poly', 'C': 0.9}\n",
      "0.828736 (0.046101) with: {'kernel': 'rbf', 'C': 0.9}\n",
      "0.616784 (0.090963) with: {'kernel': 'sigmoid', 'C': 0.9}\n",
      "0.824511 (0.045554) with: {'kernel': 'linear', 'C': 1.0}\n",
      "0.830106 (0.041252) with: {'kernel': 'poly', 'C': 1.0}\n",
      "0.825919 (0.045877) with: {'kernel': 'rbf', 'C': 1.0}\n",
      "0.616784 (0.090963) with: {'kernel': 'sigmoid', 'C': 1.0}\n",
      "0.824511 (0.045554) with: {'kernel': 'linear', 'C': 1.3}\n",
      "0.828717 (0.037847) with: {'kernel': 'poly', 'C': 1.3}\n",
      "0.823103 (0.045478) with: {'kernel': 'rbf', 'C': 1.3}\n",
      "0.616784 (0.090963) with: {'kernel': 'sigmoid', 'C': 1.3}\n",
      "0.824511 (0.045554) with: {'kernel': 'linear', 'C': 1.5}\n",
      "0.828717 (0.037847) with: {'kernel': 'poly', 'C': 1.5}\n",
      "0.824511 (0.042396) with: {'kernel': 'rbf', 'C': 1.5}\n",
      "0.616784 (0.090963) with: {'kernel': 'sigmoid', 'C': 1.5}\n",
      "0.824511 (0.045554) with: {'kernel': 'linear', 'C': 1.7}\n",
      "0.825900 (0.037572) with: {'kernel': 'poly', 'C': 1.7}\n",
      "0.827328 (0.043650) with: {'kernel': 'rbf', 'C': 1.7}\n",
      "0.616784 (0.090963) with: {'kernel': 'sigmoid', 'C': 1.7}\n",
      "0.824511 (0.045554) with: {'kernel': 'linear', 'C': 2.0}\n",
      "0.825900 (0.037572) with: {'kernel': 'poly', 'C': 2.0}\n",
      "0.823122 (0.041364) with: {'kernel': 'rbf', 'C': 2.0}\n",
      "0.616784 (0.090963) with: {'kernel': 'sigmoid', 'C': 2.0}\n"
     ]
    }
   ],
   "source": [
    "# Tune scaled SVM\n",
    "scaler = StandardScaler().fit(X_train)\n",
    "rescaledX = scaler.transform(X_train)\n",
    "\n",
    "c_values = [0.1, 0.3, 0.5, 0.7, 0.9, 1.0, 1.3, 1.5, 1.7, 2.0]\n",
    "kernel_values = ['linear', 'poly', 'rbf', 'sigmoid']\n",
    "\n",
    "param_grid = dict(C=c_values, kernel=kernel_values)\n",
    "model = SVC()\n",
    "\n",
    "kfold = cross_validation.KFold(n=num_instances, n_folds=num_folds, random_state=seed)\n",
    "\n",
    "grid = GridSearchCV(estimator=model, param_grid=param_grid, scoring=scoring, cv=kfold)\n",
    "grid_result = grid.fit(rescaledX, Y_train)\n",
    "\n",
    "print(\"Best: %f using %s\" % (grid_result.best_score_, grid_result.best_params_))\n",
    "\n",
    "for params, mean_score, scores in grid_result.grid_scores_:\n",
    "    print(\"%f (%f) with: %r\" % (scores.mean(), scores.std(), params))"
   ]
  },
  {
   "cell_type": "code",
   "execution_count": 249,
   "metadata": {
    "collapsed": false
   },
   "outputs": [
    {
     "name": "stdout",
     "output_type": "stream",
     "text": [
      "AB: 0.821674 (0.029088)\n",
      "GBM: 0.827347 (0.041271)\n",
      "RF: 0.797809 (0.043412)\n",
      "ET: 0.778071 (0.049156)\n"
     ]
    },
    {
     "data": {
      "image/png": "[encoded data removed]",
      "text/plain": [
       "<matplotlib.figure.Figure at 0xc9ffc18>"
      ]
     },
     "metadata": {},
     "output_type": "display_data"
    }
   ],
   "source": [
    "# Ensemble Methods\n",
    "ensembles = []\n",
    "ensembles.append(('AB', AdaBoostClassifier()))\n",
    "ensembles.append(('GBM', GradientBoostingClassifier()))\n",
    "ensembles.append(('RF', RandomForestClassifier()))\n",
    "ensembles.append(('ET', ExtraTreesClassifier()))\n",
    "results = []\n",
    "names = []\n",
    "for name, model in ensembles:\n",
    "    kfold = cross_validation.KFold(n=num_instances, n_folds=num_folds, random_state=seed)\n",
    "    cv_results = cross_validation.cross_val_score(model, X_train, Y_train, cv=kfold, scoring=scoring)\n",
    "    results.append(cv_results)\n",
    "    names.append(name)\n",
    "    msg = \"%s: %f (%f)\" % (name, cv_results.mean(), cv_results.std())\n",
    "    print(msg)\n",
    "    \n",
    "# Compare Algorithms\n",
    "fig = plt.figure()\n",
    "fig.suptitle('Ensemble Algorithm Comparison')\n",
    "ax = fig.add_subplot(111)\n",
    "plt.boxplot(results)\n",
    "ax.set_xticklabels(names)\n",
    "plt.show()"
   ]
  },
  {
   "cell_type": "code",
   "execution_count": 252,
   "metadata": {
    "collapsed": false
   },
   "outputs": [
    {
     "name": "stdout",
     "output_type": "stream",
     "text": [
      "0.815642458101\n",
      "[[99 11]\n",
      " [22 47]]\n",
      "             precision    recall  f1-score   support\n",
      "\n",
      "          0       0.82      0.90      0.86       110\n",
      "          1       0.81      0.68      0.74        69\n",
      "\n",
      "avg / total       0.82      0.82      0.81       179\n",
      "\n"
     ]
    }
   ],
   "source": [
    "# Finalize Model\n",
    "\n",
    "# prepare the model\n",
    "scaler = StandardScaler().fit(X_train)\n",
    "rescaledX = scaler.transform(X_train)\n",
    "model = SVC(C=1.5, kernel='poly')\n",
    "model.fit(rescaledX, Y_train)\n",
    "\n",
    "# estimate accuracy on validation dataset\n",
    "rescaledtestX = scaler.transform(X_test)\n",
    "predictions = model.predict(rescaledtestX)\n",
    "print(accuracy_score(Y_test, predictions))\n",
    "print(confusion_matrix(Y_test, predictions))\n",
    "print(classification_report(Y_test, predictions))"
   ]
  },
  {
   "cell_type": "code",
   "execution_count": 253,
   "metadata": {
    "collapsed": false
   },
   "outputs": [
    {
     "name": "stdout",
     "output_type": "stream",
     "text": [
      "Best: 0.825843 using {'penalty': 'l1', 'C': 0.1, 'class_weight': 'balanced'}\n",
      "0.616784 (0.090963) with: {'penalty': 'l1', 'C': 0.001, 'class_weight': 'balanced'}\n",
      "0.789280 (0.045556) with: {'penalty': 'l2', 'C': 0.001, 'class_weight': 'balanced'}\n",
      "0.779577 (0.038803) with: {'penalty': 'l1', 'C': 0.01, 'class_weight': 'balanced'}\n",
      "0.823063 (0.042121) with: {'penalty': 'l2', 'C': 0.01, 'class_weight': 'balanced'}\n",
      "0.825900 (0.044166) with: {'penalty': 'l1', 'C': 0.1, 'class_weight': 'balanced'}\n",
      "0.825880 (0.041612) with: {'penalty': 'l2', 'C': 0.1, 'class_weight': 'balanced'}\n",
      "0.825880 (0.041612) with: {'penalty': 'l1', 'C': 1, 'class_weight': 'balanced'}\n",
      "0.825880 (0.041612) with: {'penalty': 'l2', 'C': 1, 'class_weight': 'balanced'}\n"
     ]
    }
   ],
   "source": [
    "# Tune scaled Logistic regression\n",
    "scaler = StandardScaler().fit(X_train)\n",
    "rescaledX = scaler.transform(X_train)\n",
    "\n",
    "c_values = [0.001, 0.01, 0.1, 1]\n",
    "Penalty = ['l1', 'l2']\n",
    "class_weight = ['balanced']\n",
    "\n",
    "param_grid = dict(C = c_values, penalty = Penalty, class_weight = class_weight)\n",
    "model = LogisticRegression()\n",
    "\n",
    "kfold = cross_validation.KFold(n = num_instances, n_folds = num_folds, random_state = seed)\n",
    "\n",
    "grid = GridSearchCV(estimator=model, param_grid=param_grid, scoring=scoring, cv=kfold)\n",
    "grid_result = grid.fit(rescaledX, Y_train)\n",
    "\n",
    "print(\"Best: %f using %s\" % (grid_result.best_score_, grid_result.best_params_))\n",
    "\n",
    "for params, mean_score, scores in grid_result.grid_scores_:\n",
    "    print(\"%f (%f) with: %r\" % (scores.mean(), scores.std(), params))"
   ]
  },
  {
   "cell_type": "code",
   "execution_count": 254,
   "metadata": {
    "collapsed": false
   },
   "outputs": [
    {
     "name": "stdout",
     "output_type": "stream",
     "text": [
      "0.804469273743\n",
      "[[89 21]\n",
      " [14 55]]\n",
      "             precision    recall  f1-score   support\n",
      "\n",
      "          0       0.86      0.81      0.84       110\n",
      "          1       0.72      0.80      0.76        69\n",
      "\n",
      "avg / total       0.81      0.80      0.81       179\n",
      "\n"
     ]
    }
   ],
   "source": [
    "# Finalize Model\n",
    "\n",
    "# prepare the model\n",
    "scaler = StandardScaler().fit(X_train)\n",
    "rescaledX = scaler.transform(X_train)\n",
    "model = LogisticRegression(penalty = 'l1', C = 0.1, class_weight = 'balanced')\n",
    "model.fit(rescaledX, Y_train)\n",
    "\n",
    "# estimate accuracy on validation dataset\n",
    "rescaledtestX = scaler.transform(X_test)\n",
    "predictions = model.predict(rescaledtestX)\n",
    "print(accuracy_score(Y_test, predictions))\n",
    "print(confusion_matrix(Y_test, predictions))\n",
    "print(classification_report(Y_test, predictions))"
   ]
  },
  {
   "cell_type": "code",
   "execution_count": 208,
   "metadata": {
    "collapsed": false
   },
   "outputs": [
    {
     "data": {
      "text/plain": [
       "GridSearchCV(cv=sklearn.cross_validation.StratifiedKFold(labels=[0 0 ..., 0 0], n_folds=10, shuffle=False, random_state=42),\n",
       "       error_score='raise',\n",
       "       estimator=RandomForestClassifier(bootstrap=True, class_weight=None, criterion='gini',\n",
       "            max_depth=None, max_features='sqrt', max_leaf_nodes=None,\n",
       "            min_samples_leaf=1, min_samples_split=2,\n",
       "            min_weight_fraction_leaf=0.0, n_estimators=10, n_jobs=1,\n",
       "            oob_score=False, random_state=None, verbose=0,\n",
       "            warm_start=False),\n",
       "       fit_params={}, iid=True, n_jobs=1,\n",
       "       param_grid={'n_estimators': [50, 100, 200, 500, 1000], 'criterion': ['gini', 'entropy'], 'max_depth': [4, 5, 6, 7, 8]},\n",
       "       pre_dispatch='2*n_jobs', refit=True, scoring=None, verbose=0)"
      ]
     },
     "execution_count": 208,
     "metadata": {},
     "output_type": "execute_result"
    }
   ],
   "source": [
    "# Random Forest Tuning\n",
    "from sklearn.cross_validation import cross_val_score\n",
    "from sklearn.grid_search import GridSearchCV\n",
    "from sklearn.cross_validation import StratifiedKFold\n",
    "\n",
    "forest = RandomForestClassifier(max_features='sqrt')\n",
    "\n",
    "parameter_grid = {\n",
    "                 'max_depth' : [4,5,6,7,8],\n",
    "                 'n_estimators': [50,100,200,500, 1000],\n",
    "                 'criterion': ['gini','entropy']\n",
    "                 }\n",
    "\n",
    "cross_validation = StratifiedKFold(Y_train, n_folds=10, random_state = 42)\n",
    "grid_search = GridSearchCV(forest,\n",
    "                           param_grid=parameter_grid,\n",
    "                           cv=cross_validation)\n",
    "\n",
    "grid_search.fit(X_train, Y_train)"
   ]
  },
  {
   "cell_type": "code",
   "execution_count": 209,
   "metadata": {
    "collapsed": false
   },
   "outputs": [
    {
     "name": "stdout",
     "output_type": "stream",
     "text": [
      "Best Score: 0.827247191011\n",
      "Best Parameters: {'n_estimators': 50, 'criterion': 'gini', 'max_depth': 5}\n",
      "Best estimator: RandomForestClassifier(bootstrap=True, class_weight=None, criterion='gini',\n",
      "            max_depth=5, max_features='sqrt', max_leaf_nodes=None,\n",
      "            min_samples_leaf=1, min_samples_split=2,\n",
      "            min_weight_fraction_leaf=0.0, n_estimators=50, n_jobs=1,\n",
      "            oob_score=False, random_state=None, verbose=0,\n",
      "            warm_start=False)\n"
     ]
    }
   ],
   "source": [
    "print ('Best Score: {}'.format(grid_search.best_score_))\n",
    "print ('Best Parameters: {}'.format(grid_search.best_params_))\n",
    "print ('Best estimator: {}'.format(grid_search.best_estimator_))"
   ]
  },
  {
   "cell_type": "code",
   "execution_count": 210,
   "metadata": {
    "collapsed": false
   },
   "outputs": [
    {
     "name": "stdout",
     "output_type": "stream",
     "text": [
      "0.854748603352\n",
      "[[108  11]\n",
      " [ 15  45]]\n",
      "             precision    recall  f1-score   support\n",
      "\n",
      "          0       0.88      0.91      0.89       119\n",
      "          1       0.80      0.75      0.78        60\n",
      "\n",
      "avg / total       0.85      0.85      0.85       179\n",
      "\n"
     ]
    }
   ],
   "source": [
    "# prepare the model\n",
    "model = RandomForestClassifier(class_weight='balanced', criterion='entropy',\n",
    "max_depth=6, max_features='sqrt', max_leaf_nodes=None,\n",
    "                               min_samples_leaf=1, min_samples_split=2,\n",
    "                               min_weight_fraction_leaf=0.0, n_estimators=100, n_jobs=1,\n",
    "                               oob_score=False, random_state=None, verbose=0, warm_start=False)\n",
    "model.fit(X_train, Y_train)\n",
    "\n",
    "# estimate accuracy on validation dataset\n",
    "predictions = model.predict(X_test)\n",
    "print(accuracy_score(Y_test, predictions))\n",
    "print(confusion_matrix(Y_test, predictions))\n",
    "print(classification_report(Y_test, predictions))"
   ]
  },
  {
   "cell_type": "code",
   "execution_count": null,
   "metadata": {
    "collapsed": true
   },
   "outputs": [],
   "source": [
    "from sklearn.metrics import roc_auc_score\n",
    "metrics.roc_auc_score(Y_test, Y_pred_prob)"
   ]
  }
 ],
 "metadata": {
  "anaconda-cloud": {},
  "kernelspec": {
   "display_name": "Python [Root]",
   "language": "python",
   "name": "Python [Root]"
  },
  "language_info": {
   "codemirror_mode": {
    "name": "ipython",
    "version": 2
   },
   "file_extension": ".py",
   "mimetype": "text/x-python",
   "name": "python",
   "nbconvert_exporter": "python",
   "pygments_lexer": "ipython2",
   "version": "2.7.12"
  }
 },
 "nbformat": 4,
 "nbformat_minor": 0
}
